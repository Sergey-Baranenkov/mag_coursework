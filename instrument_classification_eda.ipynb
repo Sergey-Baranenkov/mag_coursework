{
 "cells": [
  {
   "cell_type": "code",
   "execution_count": 12,
   "outputs": [],
   "source": [
    "import numpy as np\n",
    "import json\n",
    "import pandas as pd\n",
    "import collections\n",
    "import matplotlib.pyplot as plt\n",
    "import seaborn as sns"
   ],
   "metadata": {
    "collapsed": false
   }
  },
  {
   "cell_type": "code",
   "execution_count": 2,
   "outputs": [],
   "source": [
    "# Загружаем предвычесленные фичи\n",
    "OPENMIC = np.load('data/openmic-2018/openmic-2018.npz', allow_pickle=True)\n",
    "X, Y_true, Y_mask, sample_key = OPENMIC['X'], OPENMIC['Y_true'], OPENMIC['Y_mask'], OPENMIC['sample_key']\n",
    "\n",
    "# Загружаем словарь-маппер инструментов\n",
    "with open('data/openmic-2018/class-map.json', 'r') as f:\n",
    "    instrument_to_idx = json.load(f)\n",
    "\n",
    "idx_to_instrument = { value:key for key, value in instrument_to_idx.items()}\n",
    "\n",
    "# Создатели open-mic-2018 разделили на тренировочную и тестовые выборки по 14915 и 5085 соответственно\n",
    "split_train = set(pd.read_csv('data/openmic-2018/partitions/split01_train.csv',\n",
    "                              header=None).squeeze())\n",
    "\n",
    "split_test = set(pd.read_csv('data/openmic-2018/partitions/split01_test.csv',\n",
    "                             header=None).squeeze())\n",
    "\n",
    "train_set = set(split_train)\n",
    "test_set = set(split_test)\n",
    "\n",
    "idx_train, idx_test = [], []\n",
    "\n",
    "for idx, n in enumerate(sample_key):\n",
    "    if n in train_set:\n",
    "        idx_train.append(idx)\n",
    "    elif n in test_set:\n",
    "        idx_test.append(idx)\n",
    "    else:\n",
    "        raise RuntimeError('Unknown sample key={}! Abort!'.format(sample_key[n]))\n",
    "\n",
    "# Получаем индексы, по которым будем делить данные\n",
    "idx_train = np.asarray(idx_train)\n",
    "idx_test = np.asarray(idx_test)\n",
    "\n",
    "# Sample[n] : timestamp[10] : features[128]\n",
    "X_train = X[idx_train]\n",
    "X_test = X[idx_test]\n",
    "\n",
    "# Sample[n] : Уверенности в наличие инструмента[20]\n",
    "Y_true_train = Y_true[idx_train]\n",
    "Y_true_test = Y_true[idx_test]\n",
    "\n",
    "# Sample[n] : Известно ли наличие инструмента[20]\n",
    "Y_mask_train = Y_mask[idx_train]\n",
    "Y_mask_test = Y_mask[idx_test]"
   ],
   "metadata": {
    "collapsed": false
   }
  },
  {
   "cell_type": "code",
   "execution_count": 26,
   "outputs": [
    {
     "name": "stdout",
     "output_type": "stream",
     "text": [
      "Тренировочных данных всего: 14915 Тестовых данных всего: 5085 Всего: 20000\n"
     ]
    }
   ],
   "source": [
    "print(f'Тренировочных данных всего: {idx_train.shape[0]} Тестовых данных всего: {idx_test.shape[0]} Всего: {Y_true.shape[0]}')"
   ],
   "metadata": {
    "collapsed": false
   }
  },
  {
   "cell_type": "code",
   "execution_count": 23,
   "outputs": [
    {
     "data": {
      "text/plain": "<Figure size 1500x500 with 2 Axes>",
      "image/png": "[encoded data removed]"
     },
     "metadata": {},
     "output_type": "display_data"
    }
   ],
   "source": [
    "fig, (ax1, ax2) = plt.subplots(1, 2, figsize=(15,5))\n",
    "\n",
    "unique1, counts1 = np.unique(Y_mask_train.sum(axis=1), return_counts=True)\n",
    "ax1.bar(unique1, counts1 / sum(counts1))\n",
    "ax1.set_xlabel('Число размеченных инструментов в семпле')\n",
    "ax1.set_ylabel('Встречаемость')\n",
    "\n",
    "unique2, counts2 = np.unique(Y_mask_test.sum(axis=1), return_counts=True)\n",
    "ax2.bar(unique2, counts2 / sum(counts2))\n",
    "ax2.set_xlabel('Число размеченных инструментов в семпле')\n",
    "ax2.set_ylabel('Встречаемость')\n",
    "\n",
    "plt.show()"
   ],
   "metadata": {
    "collapsed": false
   }
  },
  {
   "cell_type": "markdown",
   "source": [],
   "metadata": {
    "collapsed": false
   }
  },
  {
   "cell_type": "markdown",
   "source": [
    "Видим, что чаще всего для трека известно наличие или отсутствие всего одного - двух инструментов. Это важно при выборе метрик"
   ],
   "metadata": {
    "collapsed": false
   }
  },
  {
   "cell_type": "code",
   "execution_count": 35,
   "outputs": [
    {
     "name": "stdout",
     "output_type": "stream",
     "text": [
      "TRAIN\n",
      "Инструмент: accordion, Всего наблюдений: 1533, Положительных: 374, Отрицательных: 1159\n",
      "Инструмент: banjo, Всего наблюдений: 1740, Положительных: 592, Отрицательных: 1148\n",
      "Инструмент: bass, Всего наблюдений: 1425, Положительных: 415, Отрицательных: 1010\n",
      "Инструмент: cello, Всего наблюдений: 1464, Положительных: 598, Отрицательных: 866\n",
      "Инструмент: clarinet, Всего наблюдений: 1745, Положительных: 396, Отрицательных: 1349\n",
      "Инструмент: cymbals, Всего наблюдений: 1299, Положительных: 814, Отрицательных: 485\n",
      "Инструмент: drums, Всего наблюдений: 1323, Положительных: 828, Отрицательных: 495\n",
      "Инструмент: flute, Всего наблюдений: 1522, Положительных: 472, Отрицательных: 1050\n",
      "Инструмент: guitar, Всего наблюдений: 1214, Положительных: 852, Отрицательных: 362\n",
      "Инструмент: mallet_percussion, Всего наблюдений: 1324, Положительных: 522, Отрицательных: 802\n",
      "Инструмент: mandolin, Всего наблюдений: 1837, Положительных: 652, Отрицательных: 1185\n",
      "Инструмент: organ, Всего наблюдений: 1459, Положительных: 482, Отрицательных: 977\n",
      "Инструмент: piano, Всего наблюдений: 1305, Положительных: 885, Отрицательных: 420\n",
      "Инструмент: saxophone, Всего наблюдений: 1736, Положительных: 830, Отрицательных: 906\n",
      "Инструмент: synthesizer, Всего наблюдений: 1222, Положительных: 823, Отрицательных: 399\n",
      "Инструмент: trombone, Всего наблюдений: 2040, Положительных: 635, Отрицательных: 1405\n",
      "Инструмент: trumpet, Всего наблюдений: 2131, Положительных: 828, Отрицательных: 1303\n",
      "Инструмент: ukulele, Всего наблюдений: 1835, Положительных: 556, Отрицательных: 1279\n",
      "Инструмент: violin, Всего наблюдений: 1402, Положительных: 779, Отрицательных: 623\n",
      "Инструмент: voice, Всего наблюдений: 1190, Положительных: 764, Отрицательных: 426\n"
     ]
    }
   ],
   "source": [
    "treshold = 0.5\n",
    "\n",
    "print('TRAIN')\n",
    "for instrument in instrument_to_idx:\n",
    "    inst_num = instrument_to_idx[instrument]\n",
    "\n",
    "    mask_inst = Y_mask_train[:, inst_num]\n",
    "    Y_true_inst = Y_true_train[mask_inst, inst_num] >= treshold\n",
    "\n",
    "    total = Y_true_inst.shape[0]\n",
    "    true_at_treshold = Y_true_inst.sum()\n",
    "    print(f'Инструмент: {instrument}, Всего наблюдений: {total}, Положительных: {true_at_treshold}, Отрицательных: {total - true_at_treshold}')\n"
   ],
   "metadata": {
    "collapsed": false
   }
  },
  {
   "cell_type": "code",
   "execution_count": 36,
   "outputs": [
    {
     "name": "stdout",
     "output_type": "stream",
     "text": [
      "TEST\n",
      "Инструмент: accordion, Всего наблюдений: 538, Положительных: 115, Отрицательных: 423\n",
      "Инструмент: banjo, Всего наблюдений: 478, Положительных: 140, Отрицательных: 338\n",
      "Инструмент: bass, Всего наблюдений: 463, Положительных: 134, Отрицательных: 329\n",
      "Инструмент: cello, Всего наблюдений: 485, Положительных: 226, Отрицательных: 259\n",
      "Инструмент: clarinet, Всего наблюдений: 640, Положительных: 137, Отрицательных: 503\n",
      "Инструмент: cymbals, Всего наблюдений: 436, Положительных: 297, Отрицательных: 139\n",
      "Инструмент: drums, Всего наблюдений: 424, Положительных: 278, Отрицательных: 146\n",
      "Инструмент: flute, Всего наблюдений: 562, Положительных: 175, Отрицательных: 387\n",
      "Инструмент: guitar, Всего наблюдений: 436, Положительных: 286, Отрицательных: 150\n",
      "Инструмент: mallet_percussion, Всего наблюдений: 478, Положительных: 211, Отрицательных: 267\n",
      "Инструмент: mandolin, Всего наблюдений: 627, Положительных: 193, Отрицательных: 434\n",
      "Инструмент: organ, Всего наблюдений: 431, Положительных: 121, Отрицательных: 310\n",
      "Инструмент: piano, Всего наблюдений: 415, Положительных: 285, Отрицательных: 130\n",
      "Инструмент: saxophone, Всего наблюдений: 629, Положительных: 305, Отрицательных: 324\n",
      "Инструмент: synthesizer, Всего наблюдений: 380, Положительных: 268, Отрицательных: 112\n",
      "Инструмент: trombone, Всего наблюдений: 720, Положительных: 228, Отрицательных: 492\n",
      "Инструмент: trumpet, Всего наблюдений: 785, Положительных: 318, Отрицательных: 467\n",
      "Инструмент: ukulele, Всего наблюдений: 590, Положительных: 182, Отрицательных: 408\n",
      "Инструмент: violin, Всего наблюдений: 631, Положительных: 394, Отрицательных: 237\n",
      "Инструмент: voice, Всего наблюдений: 374, Положительных: 224, Отрицательных: 150\n"
     ]
    }
   ],
   "source": [
    "treshold = 0.5\n",
    "\n",
    "print('TEST')\n",
    "for instrument in instrument_to_idx:\n",
    "    inst_num = instrument_to_idx[instrument]\n",
    "\n",
    "    mask_inst = Y_mask_test[:, inst_num]\n",
    "    Y_true_inst = Y_true_test[mask_inst, inst_num] >= treshold\n",
    "\n",
    "    total = Y_true_inst.shape[0]\n",
    "    true_at_treshold = Y_true_inst.sum()\n",
    "    print(f'Инструмент: {instrument}, Всего наблюдений: {total}, Положительных: {true_at_treshold}, Отрицательных: {total - true_at_treshold}')\n"
   ],
   "metadata": {
    "collapsed": false
   }
  },
  {
   "cell_type": "markdown",
   "source": [
    "Видим, что по каждому инструменту примерно равное количество наблюдений всего (одного порядка). Однако для части инструментов больше положительных семплов (классифицированные как имеющие данный инструмент), для другой части больше отрицательных(в семпле не звучит данный инструмент)"
   ],
   "metadata": {
    "collapsed": false
   }
  },
  {
   "cell_type": "code",
   "execution_count": null,
   "outputs": [],
   "source": [],
   "metadata": {
    "collapsed": false
   }
  }
 ],
 "metadata": {
  "kernelspec": {
   "display_name": "Python 3",
   "language": "python",
   "name": "python3"
  },
  "language_info": {
   "codemirror_mode": {
    "name": "ipython",
    "version": 2
   },
   "file_extension": ".py",
   "mimetype": "text/x-python",
   "name": "python",
   "nbconvert_exporter": "python",
   "pygments_lexer": "ipython2",
   "version": "2.7.6"
  }
 },
 "nbformat": 4,
 "nbformat_minor": 0
}

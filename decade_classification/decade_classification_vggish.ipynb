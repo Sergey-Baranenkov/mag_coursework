{
 "cells": [
  {
   "cell_type": "code",
   "execution_count": 2,
   "metadata": {
    "collapsed": true,
    "ExecuteTime": {
     "end_time": "2023-05-08T16:53:42.708999397Z",
     "start_time": "2023-05-08T16:53:42.565472962Z"
    }
   },
   "outputs": [],
   "source": [
    "import numpy as np\n",
    "import torch\n",
    "from torch import nn\n",
    "from utils.genre_classification import evaluate, executor, feature_preparator\n",
    "from utils.genre_classification.random_features_slicer import random_features_slicer\n",
    "from utils.genre_classification.plot_metrics import plot_metrics\n",
    "from models.genre_classification.FeedForwardSimpleModel import FeedForwardSimpleModel\n",
    "from utils.genre_classification.plot_confusion_matrix import plot_confusion_matrix"
   ]
  },
  {
   "cell_type": "code",
   "execution_count": 3,
   "outputs": [],
   "source": [
    "%load_ext autoreload\n",
    "%autoreload 2\n",
    "%matplotlib inline"
   ],
   "metadata": {
    "collapsed": false,
    "ExecuteTime": {
     "end_time": "2023-05-08T16:53:43.317342565Z",
     "start_time": "2023-05-08T16:53:43.144297261Z"
    }
   }
  },
  {
   "cell_type": "code",
   "execution_count": 4,
   "outputs": [],
   "source": [
    "BATCH_SIZE = 8\n",
    "NUM_CLASSES = 4\n",
    "DEVICE = torch.device('cuda')"
   ],
   "metadata": {
    "collapsed": false,
    "ExecuteTime": {
     "end_time": "2023-05-08T16:53:53.604930148Z",
     "start_time": "2023-05-08T16:53:52.869727488Z"
    }
   }
  },
  {
   "cell_type": "code",
   "execution_count": null,
   "outputs": [],
   "source": [
    "%%time\n",
    "train_data_loader, val_data_loader, test_data_loader, idx_to_label = feature_preparator(\n",
    "    'features/decade_classification/mfcc24-zcr-sc-sr-sf-chr.p',\n",
    "    BATCH_SIZE,\n",
    "    #transform=random_features_slicer,\n",
    "    normalize=False\n",
    ")\n",
    "\n",
    "def transform_idx_to_label(x):\n",
    "    return idx_to_label[x]"
   ],
   "metadata": {
    "collapsed": false
   }
  }
 ],
 "metadata": {
  "kernelspec": {
   "display_name": "Python 3",
   "language": "python",
   "name": "python3"
  },
  "language_info": {
   "codemirror_mode": {
    "name": "ipython",
    "version": 2
   },
   "file_extension": ".py",
   "mimetype": "text/x-python",
   "name": "python",
   "nbconvert_exporter": "python",
   "pygments_lexer": "ipython2",
   "version": "2.7.6"
  }
 },
 "nbformat": 4,
 "nbformat_minor": 0
}

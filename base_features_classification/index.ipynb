{
 "cells": [
  {
   "cell_type": "code",
   "execution_count": null,
   "outputs": [],
   "source": [
    "cd .."
   ],
   "metadata": {
    "collapsed": false
   }
  },
  {
   "cell_type": "code",
   "execution_count": null,
   "outputs": [],
   "source": [
    "import librosa\n",
    "import numpy as np\n",
    "from IPython.display import Audio"
   ],
   "metadata": {
    "collapsed": false
   }
  },
  {
   "cell_type": "code",
   "execution_count": null,
   "outputs": [],
   "source": [
    "def krumhansl_schmuckler(filename):\n",
    "    # Загружаем файл\n",
    "    y, sr = librosa.load(filename)\n",
    "\n",
    "    # Удаляем перкуссионные звуки\n",
    "    y, y_percussive = librosa.effects.hpss(y)\n",
    "\n",
    "    # Извлекаем хроматические признаки\n",
    "    chroma = librosa.feature.chroma_cqt(y=y, sr=sr, bins_per_octave=24)\n",
    "    chroma_mean = np.mean(chroma, axis=1)\n",
    "\n",
    "    # Определяем полутона\n",
    "    pitches = ['C','C#','D','D#','E','F','F#','G','G#','A','A#','B']\n",
    "\n",
    "    # Объект полутон - среднее\n",
    "    keyfreqs = { pitches[i]: chroma_mean[i] for i in range(12) }\n",
    "\n",
    "    # Константы из статьи\n",
    "    maj_profile = [6.35, 2.23, 3.48, 2.33, 4.38, 4.09, 2.52, 5.19, 2.39, 3.66, 2.29, 2.88]\n",
    "    min_profile = [6.33, 2.68, 3.52, 5.38, 2.60, 3.53, 2.54, 4.75, 3.98, 2.69, 3.34, 3.17]\n",
    "\n",
    "    # Ищем корреляции между минорным и мажорным профилем с каждым циклическим сдвигом полутонов\n",
    "    maj_corrs = []\n",
    "    min_corrs = []\n",
    "    for i in range(12):\n",
    "        chroma_for_key = [keyfreqs.get(pitches[(i + m) % 12]) for m in range(12)]\n",
    "        maj_corrs.append(np.corrcoef(maj_profile, chroma_for_key)[0, 1])\n",
    "        min_corrs.append(np.corrcoef(min_profile, chroma_for_key)[0, 1])\n",
    "\n",
    "    # Находим наиболее вероятную мажорную и минорную частоту\n",
    "    maj_key = np.argmax(maj_corrs)\n",
    "    min_key = np.argmax(min_corrs)\n",
    "\n",
    "    # Сравниваем вероятности мажорной и минорной частоты и определяем тональность\n",
    "    if maj_corrs[maj_key] > min_corrs[min_key]:\n",
    "        return pitches[maj_key], 'major', maj_corrs[maj_key]\n",
    "    else:\n",
    "        return pitches[min_key], 'minor', min_corrs[min_key]\n",
    "\n",
    "krumhansl_schmuckler('data/test2.mp3')"
   ],
   "metadata": {
    "collapsed": false
   }
  },
  {
   "cell_type": "code",
   "execution_count": 117,
   "outputs": [],
   "source": [
    "def bpm(filename):\n",
    "    # Загружаем файл\n",
    "    y, sr = librosa.load(filename)\n",
    "    tempo, beats = librosa.beat.beat_track(y=y, sr=sr)\n",
    "\n",
    "    return tempo"
   ],
   "metadata": {
    "collapsed": false,
    "ExecuteTime": {
     "end_time": "2023-05-09T17:29:41.353562960Z",
     "start_time": "2023-05-09T17:29:41.350246156Z"
    }
   }
  },
  {
   "cell_type": "code",
   "execution_count": 119,
   "outputs": [
    {
     "data": {
      "text/plain": "array([112.34714674])"
     },
     "execution_count": 119,
     "metadata": {},
     "output_type": "execute_result"
    }
   ],
   "source": [
    "bpm('data/test2.mp3')"
   ],
   "metadata": {
    "collapsed": false,
    "ExecuteTime": {
     "end_time": "2023-05-09T17:29:58.495347817Z",
     "start_time": "2023-05-09T17:29:55.425208688Z"
    }
   }
  },
  {
   "cell_type": "code",
   "execution_count": null,
   "outputs": [],
   "source": [],
   "metadata": {
    "collapsed": false
   }
  }
 ],
 "metadata": {
  "kernelspec": {
   "display_name": "Python 3",
   "language": "python",
   "name": "python3"
  },
  "language_info": {
   "codemirror_mode": {
    "name": "ipython",
    "version": 2
   },
   "file_extension": ".py",
   "mimetype": "text/x-python",
   "name": "python",
   "nbconvert_exporter": "python",
   "pygments_lexer": "ipython2",
   "version": "2.7.6"
  }
 },
 "nbformat": 4,
 "nbformat_minor": 0
}
